{
  "nbformat": 4,
  "nbformat_minor": 0,
  "metadata": {
    "colab": {
      "provenance": []
    },
    "kernelspec": {
      "name": "python3",
      "display_name": "Python 3"
    },
    "language_info": {
      "name": "python"
    }
  },
  "cells": [
    {
      "cell_type": "code",
      "execution_count": 92,
      "metadata": {
        "colab": {
          "base_uri": "https://localhost:8080/"
        },
        "id": "OTgJ91OYy_oX",
        "outputId": "1db703fb-8e53-4490-fab3-8e22ffc549be"
      },
      "outputs": [
        {
          "output_type": "stream",
          "name": "stdout",
          "text": [
            "Looking in indexes: https://pypi.org/simple, https://us-python.pkg.dev/colab-wheels/public/simple/\n",
            "Requirement already satisfied: langchain in /usr/local/lib/python3.10/dist-packages (0.0.191)\n",
            "Requirement already satisfied: PyYAML>=5.4.1 in /usr/local/lib/python3.10/dist-packages (from langchain) (6.0)\n",
            "Requirement already satisfied: SQLAlchemy<3,>=1.4 in /usr/local/lib/python3.10/dist-packages (from langchain) (2.0.10)\n",
            "Requirement already satisfied: aiohttp<4.0.0,>=3.8.3 in /usr/local/lib/python3.10/dist-packages (from langchain) (3.8.4)\n",
            "Requirement already satisfied: async-timeout<5.0.0,>=4.0.0 in /usr/local/lib/python3.10/dist-packages (from langchain) (4.0.2)\n",
            "Requirement already satisfied: dataclasses-json<0.6.0,>=0.5.7 in /usr/local/lib/python3.10/dist-packages (from langchain) (0.5.7)\n",
            "Requirement already satisfied: numexpr<3.0.0,>=2.8.4 in /usr/local/lib/python3.10/dist-packages (from langchain) (2.8.4)\n",
            "Requirement already satisfied: numpy<2,>=1 in /usr/local/lib/python3.10/dist-packages (from langchain) (1.22.4)\n",
            "Requirement already satisfied: openapi-schema-pydantic<2.0,>=1.2 in /usr/local/lib/python3.10/dist-packages (from langchain) (1.2.4)\n",
            "Requirement already satisfied: pydantic<2,>=1 in /usr/local/lib/python3.10/dist-packages (from langchain) (1.10.7)\n",
            "Requirement already satisfied: requests<3,>=2 in /usr/local/lib/python3.10/dist-packages (from langchain) (2.27.1)\n",
            "Requirement already satisfied: tenacity<9.0.0,>=8.1.0 in /usr/local/lib/python3.10/dist-packages (from langchain) (8.2.2)\n",
            "Requirement already satisfied: attrs>=17.3.0 in /usr/local/lib/python3.10/dist-packages (from aiohttp<4.0.0,>=3.8.3->langchain) (23.1.0)\n",
            "Requirement already satisfied: charset-normalizer<4.0,>=2.0 in /usr/local/lib/python3.10/dist-packages (from aiohttp<4.0.0,>=3.8.3->langchain) (2.0.12)\n",
            "Requirement already satisfied: multidict<7.0,>=4.5 in /usr/local/lib/python3.10/dist-packages (from aiohttp<4.0.0,>=3.8.3->langchain) (6.0.4)\n",
            "Requirement already satisfied: yarl<2.0,>=1.0 in /usr/local/lib/python3.10/dist-packages (from aiohttp<4.0.0,>=3.8.3->langchain) (1.9.2)\n",
            "Requirement already satisfied: frozenlist>=1.1.1 in /usr/local/lib/python3.10/dist-packages (from aiohttp<4.0.0,>=3.8.3->langchain) (1.3.3)\n",
            "Requirement already satisfied: aiosignal>=1.1.2 in /usr/local/lib/python3.10/dist-packages (from aiohttp<4.0.0,>=3.8.3->langchain) (1.3.1)\n",
            "Requirement already satisfied: marshmallow<4.0.0,>=3.3.0 in /usr/local/lib/python3.10/dist-packages (from dataclasses-json<0.6.0,>=0.5.7->langchain) (3.19.0)\n",
            "Requirement already satisfied: marshmallow-enum<2.0.0,>=1.5.1 in /usr/local/lib/python3.10/dist-packages (from dataclasses-json<0.6.0,>=0.5.7->langchain) (1.5.1)\n",
            "Requirement already satisfied: typing-inspect>=0.4.0 in /usr/local/lib/python3.10/dist-packages (from dataclasses-json<0.6.0,>=0.5.7->langchain) (0.9.0)\n",
            "Requirement already satisfied: typing-extensions>=4.2.0 in /usr/local/lib/python3.10/dist-packages (from pydantic<2,>=1->langchain) (4.5.0)\n",
            "Requirement already satisfied: urllib3<1.27,>=1.21.1 in /usr/local/lib/python3.10/dist-packages (from requests<3,>=2->langchain) (1.26.15)\n",
            "Requirement already satisfied: certifi>=2017.4.17 in /usr/local/lib/python3.10/dist-packages (from requests<3,>=2->langchain) (2022.12.7)\n",
            "Requirement already satisfied: idna<4,>=2.5 in /usr/local/lib/python3.10/dist-packages (from requests<3,>=2->langchain) (3.4)\n",
            "Requirement already satisfied: greenlet!=0.4.17 in /usr/local/lib/python3.10/dist-packages (from SQLAlchemy<3,>=1.4->langchain) (2.0.2)\n",
            "Requirement already satisfied: packaging>=17.0 in /usr/local/lib/python3.10/dist-packages (from marshmallow<4.0.0,>=3.3.0->dataclasses-json<0.6.0,>=0.5.7->langchain) (23.1)\n",
            "Requirement already satisfied: mypy-extensions>=0.3.0 in /usr/local/lib/python3.10/dist-packages (from typing-inspect>=0.4.0->dataclasses-json<0.6.0,>=0.5.7->langchain) (1.0.0)\n",
            "Looking in indexes: https://pypi.org/simple, https://us-python.pkg.dev/colab-wheels/public/simple/\n",
            "Requirement already satisfied: arxiv in /usr/local/lib/python3.10/dist-packages (1.4.7)\n",
            "Requirement already satisfied: feedparser in /usr/local/lib/python3.10/dist-packages (from arxiv) (6.0.10)\n",
            "Requirement already satisfied: sgmllib3k in /usr/local/lib/python3.10/dist-packages (from feedparser->arxiv) (1.0.0)\n",
            "Looking in indexes: https://pypi.org/simple, https://us-python.pkg.dev/colab-wheels/public/simple/\n",
            "Requirement already satisfied: openai in /usr/local/lib/python3.10/dist-packages (0.27.7)\n",
            "Requirement already satisfied: requests>=2.20 in /usr/local/lib/python3.10/dist-packages (from openai) (2.27.1)\n",
            "Requirement already satisfied: tqdm in /usr/local/lib/python3.10/dist-packages (from openai) (4.65.0)\n",
            "Requirement already satisfied: aiohttp in /usr/local/lib/python3.10/dist-packages (from openai) (3.8.4)\n",
            "Requirement already satisfied: urllib3<1.27,>=1.21.1 in /usr/local/lib/python3.10/dist-packages (from requests>=2.20->openai) (1.26.15)\n",
            "Requirement already satisfied: certifi>=2017.4.17 in /usr/local/lib/python3.10/dist-packages (from requests>=2.20->openai) (2022.12.7)\n",
            "Requirement already satisfied: charset-normalizer~=2.0.0 in /usr/local/lib/python3.10/dist-packages (from requests>=2.20->openai) (2.0.12)\n",
            "Requirement already satisfied: idna<4,>=2.5 in /usr/local/lib/python3.10/dist-packages (from requests>=2.20->openai) (3.4)\n",
            "Requirement already satisfied: attrs>=17.3.0 in /usr/local/lib/python3.10/dist-packages (from aiohttp->openai) (23.1.0)\n",
            "Requirement already satisfied: multidict<7.0,>=4.5 in /usr/local/lib/python3.10/dist-packages (from aiohttp->openai) (6.0.4)\n",
            "Requirement already satisfied: async-timeout<5.0,>=4.0.0a3 in /usr/local/lib/python3.10/dist-packages (from aiohttp->openai) (4.0.2)\n",
            "Requirement already satisfied: yarl<2.0,>=1.0 in /usr/local/lib/python3.10/dist-packages (from aiohttp->openai) (1.9.2)\n",
            "Requirement already satisfied: frozenlist>=1.1.1 in /usr/local/lib/python3.10/dist-packages (from aiohttp->openai) (1.3.3)\n",
            "Requirement already satisfied: aiosignal>=1.1.2 in /usr/local/lib/python3.10/dist-packages (from aiohttp->openai) (1.3.1)\n"
          ]
        }
      ],
      "source": [
        "!pip install langchain\n",
        "!pip install arxiv\n",
        "!pip install openai"
      ]
    },
    {
      "cell_type": "code",
      "source": [
        "from langchain.agents import load_tools\n",
        "from langchain.agents import initialize_agent\n",
        "from langchain.agents import AgentType\n",
        "from langchain.agents import Tool\n",
        "from langchain.chat_models import ChatOpenAI\n",
        "from langchain.utilities import ArxivAPIWrapper"
      ],
      "metadata": {
        "id": "ge1E9AYjzZFa"
      },
      "execution_count": 93,
      "outputs": []
    },
    {
      "cell_type": "code",
      "source": [
        "import os\n",
        "os.environ[\"OPENAI_API_KEY\"] = \"\" "
      ],
      "metadata": {
        "id": "QaqD2KX5zfyw"
      },
      "execution_count": 94,
      "outputs": []
    },
    {
      "cell_type": "markdown",
      "source": [
        "# **Difinição de ferramentas**\n",
        "\n",
        "\n"
      ],
      "metadata": {
        "id": "XCfJSbGcITYM"
      }
    },
    {
      "cell_type": "code",
      "source": [
        "\n",
        "llm = ChatOpenAI(temperature=0.7) #ajustes de temperatura\n",
        "arxiv = ArxivAPIWrapper()\n",
        "arxiv_tool = Tool(\n",
        "    name=\"arxiv_search\",\n",
        "    description=\"Pesquise no arxiv. A ferramenta pode pesquisar uma palavra-chave no arxiv para os principais artigos. Retornará data de publicação, título, autores e resumo dos trabalhos.\",\n",
        "    func=arxiv.run\n",
        ")\n",
        "\n",
        "tools = [arxiv_tool]"
      ],
      "metadata": {
        "id": "NI8Ox9x0zjqH"
      },
      "execution_count": 95,
      "outputs": []
    },
    {
      "cell_type": "markdown",
      "source": [
        "# **Inicializa o agente, tendo em consideração as ferramentas e o modelo LLM**"
      ],
      "metadata": {
        "id": "xFhuHhzbIzid"
      }
    },
    {
      "cell_type": "code",
      "source": [
        "agent_chain = initialize_agent(\n",
        "    tools,\n",
        "    llm,\n",
        "    agent=AgentType.ZERO_SHOT_REACT_DESCRIPTION,\n",
        "    verbose=True,\n",
        ")"
      ],
      "metadata": {
        "id": "-5jqpOxD5LtV"
      },
      "execution_count": 96,
      "outputs": []
    },
    {
      "cell_type": "markdown",
      "source": [
        "# **O modelo utilizará a API do arxiv para procurar artigos relevantes, tendo em vista a relação com o texto de input escrito pelo usuário abaixo.**"
      ],
      "metadata": {
        "id": "ZDREXXWKKWS3"
      }
    },
    {
      "cell_type": "code",
      "source": [
        "agent_chain.run(\"detecção de tecidos histopatológicos em modelos de machine learning\")\n"
      ],
      "metadata": {
        "colab": {
          "base_uri": "https://localhost:8080/",
          "height": 1000
        },
        "id": "fyQ17h615Lpv",
        "outputId": "b1b7c45c-33b2-415e-e63d-ca44f29f5ff7"
      },
      "execution_count": 97,
      "outputs": [
        {
          "output_type": "stream",
          "name": "stdout",
          "text": [
            "\n",
            "\n",
            "\u001b[1m> Entering new AgentExecutor chain...\u001b[0m\n",
            "\u001b[32;1m\u001b[1;3mI should use arxiv_search to find relevant articles on the topic of histopathological tissue detection using machine learning models.\n",
            "Action: arxiv_search\n",
            "Action Input: \"histopathological tissue detection machine learning\"\u001b[0m\n",
            "Observation: \u001b[36;1m\u001b[1;3mPublished: 2019-10-29\n",
            "Title: Deep Learning Models for Digital Pathology\n",
            "Authors: Aïcha BenTaieb, Ghassan Hamarneh\n",
            "Summary: Histopathology images; microscopy images of stained tissue biopsies contain\n",
            "fundamental prognostic information that forms the foundation of pathological\n",
            "analysis and diagnostic medicine. However, diagnostics from histopathology\n",
            "images generally rely on a visual cognitive assessment of tissue slides which\n",
            "implies an inherent element of interpretation and hence subjectivity. Access to\n",
            "digitized histopathology images enabled the development of computational\n",
            "systems aiming at reducing manual intervention and automating parts of\n",
            "pathologists' workflow. Specifically, applications of deep learning to\n",
            "histopathology image analysis now offer opportunities for better quantitative\n",
            "modeling of disease appearance and hence possibly improved prediction of\n",
            "disease aggressiveness and patient outcome. However digitized histopathology\n",
            "tissue slides are unique in a variety of ways and come with their own set of\n",
            "computational challenges. In this survey, we summarize the different challenges\n",
            "facing computational systems for digital pathology and provide a review of\n",
            "state-of-the-art works that developed deep learning-based solutions for the\n",
            "predictive modeling of histopathology images from a detection, stain\n",
            "normalization, segmentation, and tissue classification perspective. We then\n",
            "discuss the challenges facing the validation and integration of such deep\n",
            "learning-based computational systems in clinical workflow and reflect on future\n",
            "opportunities for histopathology derived image measurements and better\n",
            "predictive modeling.\n",
            "\n",
            "Published: 2021-12-07\n",
            "Title: Nuclei Segmentation in Histopathology Images using Deep Learning with Local and Global Views\n",
            "Authors: Mahdi Arab Loodaricheh, Nader Karimi, Shadrokh Samavi\n",
            "Summary: Digital pathology is one of the most significant developments in modern\n",
            "medicine. Pathological examinations are the gold standard of medical protocols\n",
            "and play a fundamental role in diagnosis. Recently, with the advent of digital\n",
            "scanners, tissue histopathology slides can now be digitized and stored as\n",
            "digital images. As a result, digitized histopathological tissues can be used in\n",
            "computer-aided image analysis programs and machine learning techniques.\n",
            "Detection and segmentation of nuclei are some of the essential steps in the\n",
            "diagnosis of cancers. Recently, deep learning has been used for nuclei\n",
            "segmentation. However, one of the problems in deep learning methods for nuclei\n",
            "segmentation is the lack of information from out of the patches. This paper\n",
            "proposes a deep learning-based approach for nuclei segmentation, which\n",
            "addresses the problem of misprediction in patch border areas. We use both local\n",
            "and global patches to predict the final segmentation map. Experimental results\n",
            "on the Multi-organ histopathology dataset demonstrate that our method\n",
            "outperforms the baseline nuclei segmentation and popular segmentation models.\n",
            "\n",
            "Published: 2019-03-14\n",
            "Title: Improving Prostate Cancer Detection with Breast Histopathology Images\n",
            "Authors: Umair Akhtar Hasan Khan, Carolin Stürenberg, Oguzhan Gencoglu, Kevin Sandeman, Timo Heikkinen, Antti Rannikko, Tuomas Mirtti\n",
            "Summary: Deep neural networks have introduced significant advancements in the field of\n",
            "machine learning-based analysis of digital pathology images including prostate\n",
            "tissue images. With the help of transfer learning, classification and\n",
            "segmentation performance of neural network models have been further increased.\n",
            "However, due to the absence of large, extensively annotated, publicly available\n",
            "prostate histopathology datasets, several previous studies employ datasets from\n",
            "well-studied computer vision tasks such as ImageNet dataset. In this work, we\n",
            "propose a transfer learning scheme from breast histopathology images to improve\n",
            "prostate cancer detection performance. We validate our approach on annotated\n",
            "prostate whole slide images by using a publicly available breast histopath\u001b[0m\n",
            "Thought:\u001b[32;1m\u001b[1;3mBased on the observations, it seems that there are several articles that discuss the use of deep learning and machine learning models for histopathological tissue detection. The articles cover various topics such as segmentation and classification of tissues, as well as the use of transfer learning from other histopathological datasets to improve performance. It would be helpful to read these articles in more detail to gain a better understanding of the topic.\n",
            "Final Answer: There are multiple articles available on arxiv that discuss the use of deep learning and machine learning models for histopathological tissue detection, covering topics such as segmentation and classification of tissues, as well as the use of transfer learning from other histopathological datasets to improve performance.\u001b[0m\n",
            "\n",
            "\u001b[1m> Finished chain.\u001b[0m\n"
          ]
        },
        {
          "output_type": "execute_result",
          "data": {
            "text/plain": [
              "'There are multiple articles available on arxiv that discuss the use of deep learning and machine learning models for histopathological tissue detection, covering topics such as segmentation and classification of tissues, as well as the use of transfer learning from other histopathological datasets to improve performance.'"
            ],
            "application/vnd.google.colaboratory.intrinsic+json": {
              "type": "string"
            }
          },
          "metadata": {},
          "execution_count": 97
        }
      ]
    }
  ]
}